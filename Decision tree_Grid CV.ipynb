{
 "cells": [
  {
   "cell_type": "code",
   "execution_count": 1,
   "metadata": {},
   "outputs": [],
   "source": [
    "import pandas as pd\n",
    "    "
   ]
  },
  {
   "cell_type": "code",
   "execution_count": 2,
   "metadata": {},
   "outputs": [],
   "source": [
    "data=pd.read_csv(\"Social_Network_Ads.csv\")"
   ]
  },
  {
   "cell_type": "code",
   "execution_count": 3,
   "metadata": {},
   "outputs": [],
   "source": [
    "data=pd.get_dummies(data, drop_first=True)"
   ]
  },
  {
   "cell_type": "code",
   "execution_count": 4,
   "metadata": {},
   "outputs": [
    {
     "data": {
      "text/plain": [
       "Index(['User ID', 'Age', 'EstimatedSalary', 'Purchased', 'Gender_Male'], dtype='object')"
      ]
     },
     "execution_count": 4,
     "metadata": {},
     "output_type": "execute_result"
    }
   ],
   "source": [
    "data.columns"
   ]
  },
  {
   "cell_type": "code",
   "execution_count": 5,
   "metadata": {},
   "outputs": [],
   "source": [
    "ind=data[['User ID', 'Age', 'EstimatedSalary', 'Gender_Male']]\n",
    "dep=data[['Purchased']]"
   ]
  },
  {
   "cell_type": "code",
   "execution_count": 17,
   "metadata": {},
   "outputs": [],
   "source": [
    "from sklearn.model_selection import train_test_split\n",
    "x_train,x_test,y_train,y_test=train_test_split(ind,dep,test_size=0.30,random_state=0)\n",
    "from sklearn.preprocessing import StandardScaler\n",
    "sc=StandardScaler()\n",
    "x_train=sc.fit_transform(x_train)\n",
    "x_test=sc.transform(x_test)"
   ]
  },
  {
   "cell_type": "code",
   "execution_count": 18,
   "metadata": {},
   "outputs": [
    {
     "name": "stderr",
     "output_type": "stream",
     "text": [
      "C:\\Users\\Admin\\Anaconda3\\lib\\site-packages\\sklearn\\model_selection\\_split.py:1978: FutureWarning: The default value of cv will change from 3 to 5 in version 0.22. Specify it explicitly to silence this warning.\n",
      "  warnings.warn(CV_WARNING, FutureWarning)\n",
      "[Parallel(n_jobs=-1)]: Using backend LokyBackend with 4 concurrent workers.\n"
     ]
    },
    {
     "name": "stdout",
     "output_type": "stream",
     "text": [
      "Fitting 3 folds for each of 12 candidates, totalling 36 fits\n"
     ]
    },
    {
     "name": "stderr",
     "output_type": "stream",
     "text": [
      "[Parallel(n_jobs=-1)]: Done  36 out of  36 | elapsed:    2.2s finished\n",
      "C:\\Users\\Admin\\Anaconda3\\lib\\site-packages\\sklearn\\model_selection\\_search.py:814: DeprecationWarning: The default of the `iid` parameter will change from True to False in version 0.22 and will be removed in 0.24. This will change numeric results when test-set sizes are unequal.\n",
      "  DeprecationWarning)\n"
     ]
    },
    {
     "data": {
      "text/plain": [
       "GridSearchCV(cv='warn', error_score='raise-deprecating',\n",
       "             estimator=DecisionTreeClassifier(class_weight=None,\n",
       "                                              criterion='gini', max_depth=None,\n",
       "                                              max_features=None,\n",
       "                                              max_leaf_nodes=None,\n",
       "                                              min_impurity_decrease=0.0,\n",
       "                                              min_impurity_split=None,\n",
       "                                              min_samples_leaf=1,\n",
       "                                              min_samples_split=2,\n",
       "                                              min_weight_fraction_leaf=0.0,\n",
       "                                              presort=False, random_state=None,\n",
       "                                              splitter='best'),\n",
       "             iid='warn', n_jobs=-1,\n",
       "             param_grid={'criterion': ['gini', 'entropy'],\n",
       "                         'max_features': ['auto', 'sqrt', 'log2'],\n",
       "                         'splitter': ['best', 'random']},\n",
       "             pre_dispatch='2*n_jobs', refit=True, return_train_score=False,\n",
       "             scoring='f1_weighted', verbose=3)"
      ]
     },
     "execution_count": 18,
     "metadata": {},
     "output_type": "execute_result"
    }
   ],
   "source": [
    "from sklearn.tree import DecisionTreeClassifier\n",
    "from sklearn.model_selection import GridSearchCV\n",
    "par={'criterion':['gini','entropy'],'max_features':['auto','sqrt','log2'],'splitter':['best','random']}\n",
    "grid=GridSearchCV(DecisionTreeClassifier(),par,refit=True,verbose=3,n_jobs=-1,scoring=\"f1_weighted\")\n",
    "grid.fit(x_train,y_train)"
   ]
  },
  {
   "cell_type": "code",
   "execution_count": 19,
   "metadata": {},
   "outputs": [
    {
     "name": "stdout",
     "output_type": "stream",
     "text": [
      "{'mean_fit_time': array([0.00166702, 0.00500305, 0.00500361, 0.00166742, 0.0033319 ,\n",
      "       0.00333412, 0.00333349, 0.0033354 , 0.00333222, 0.00499972,\n",
      "       0.00500345, 0.        ]), 'std_fit_time': array([2.35752612e-03, 2.75531385e-06, 4.05233662e-06, 2.35808808e-03,\n",
      "       2.35600888e-03, 4.71516463e-03, 2.35713444e-03, 2.35848516e-03,\n",
      "       2.35623487e-03, 1.76637258e-06, 1.59342588e-06, 0.00000000e+00]), 'mean_score_time': array([0.01166844, 0.00166845, 0.        , 0.0033354 , 0.00166829,\n",
      "       0.0083367 , 0.00333397, 0.00357183, 0.00166861, 0.0016671 ,\n",
      "       0.        , 0.00500504]), 'std_score_time': array([9.42909297e-03, 2.35954917e-03, 0.00000000e+00, 2.35848667e-03,\n",
      "       2.35932438e-03, 8.50194251e-03, 2.35747139e-03, 2.54171416e-03,\n",
      "       2.35977395e-03, 2.35763851e-03, 0.00000000e+00, 1.96925985e-06]), 'param_criterion': masked_array(data=['gini', 'gini', 'gini', 'gini', 'gini', 'gini',\n",
      "                   'entropy', 'entropy', 'entropy', 'entropy', 'entropy',\n",
      "                   'entropy'],\n",
      "             mask=[False, False, False, False, False, False, False, False,\n",
      "                   False, False, False, False],\n",
      "       fill_value='?',\n",
      "            dtype=object), 'param_max_features': masked_array(data=['auto', 'auto', 'sqrt', 'sqrt', 'log2', 'log2', 'auto',\n",
      "                   'auto', 'sqrt', 'sqrt', 'log2', 'log2'],\n",
      "             mask=[False, False, False, False, False, False, False, False,\n",
      "                   False, False, False, False],\n",
      "       fill_value='?',\n",
      "            dtype=object), 'param_splitter': masked_array(data=['best', 'random', 'best', 'random', 'best', 'random',\n",
      "                   'best', 'random', 'best', 'random', 'best', 'random'],\n",
      "             mask=[False, False, False, False, False, False, False, False,\n",
      "                   False, False, False, False],\n",
      "       fill_value='?',\n",
      "            dtype=object), 'params': [{'criterion': 'gini', 'max_features': 'auto', 'splitter': 'best'}, {'criterion': 'gini', 'max_features': 'auto', 'splitter': 'random'}, {'criterion': 'gini', 'max_features': 'sqrt', 'splitter': 'best'}, {'criterion': 'gini', 'max_features': 'sqrt', 'splitter': 'random'}, {'criterion': 'gini', 'max_features': 'log2', 'splitter': 'best'}, {'criterion': 'gini', 'max_features': 'log2', 'splitter': 'random'}, {'criterion': 'entropy', 'max_features': 'auto', 'splitter': 'best'}, {'criterion': 'entropy', 'max_features': 'auto', 'splitter': 'random'}, {'criterion': 'entropy', 'max_features': 'sqrt', 'splitter': 'best'}, {'criterion': 'entropy', 'max_features': 'sqrt', 'splitter': 'random'}, {'criterion': 'entropy', 'max_features': 'log2', 'splitter': 'best'}, {'criterion': 'entropy', 'max_features': 'log2', 'splitter': 'random'}], 'split0_test_score': array([0.80172872, 0.82978723, 0.82166036, 0.85106383, 0.76993428,\n",
      "       0.78200477, 0.82560382, 0.80962341, 0.81558933, 0.86124153,\n",
      "       0.84395282, 0.79719916]), 'split1_test_score': array([0.87274256, 0.83918917, 0.86134497, 0.85153298, 0.87228825,\n",
      "       0.87228825, 0.83918917, 0.8831543 , 0.85031516, 0.75693134,\n",
      "       0.83818371, 0.81774773]), 'split2_test_score': array([0.88987166, 0.74017595, 0.87008798, 0.73810153, 0.87008798,\n",
      "       0.74193548, 0.92448573, 0.78790426, 0.90135252, 0.77345719,\n",
      "       0.92495495, 0.76344086]), 'mean_test_score': array([0.85459151, 0.80314627, 0.85092621, 0.81370004, 0.83719575,\n",
      "       0.79868306, 0.86295902, 0.82683231, 0.8556089 , 0.79743871,\n",
      "       0.86894093, 0.79281164]), 'std_test_score': array([0.03822287, 0.04457339, 0.02110792, 0.05331344, 0.04782447,\n",
      "       0.05442828, 0.04374312, 0.0406984 , 0.03524171, 0.04585457,\n",
      "       0.03957212, 0.02234978]), 'rank_test_score': array([ 4,  9,  5,  8,  6, 10,  2,  7,  3, 11,  1, 12])}\n"
     ]
    }
   ],
   "source": [
    "re=grid.cv_results_\n",
    "print(re)"
   ]
  },
  {
   "cell_type": "code",
   "execution_count": 21,
   "metadata": {},
   "outputs": [
    {
     "name": "stdout",
     "output_type": "stream",
     "text": [
      "[[72  7]\n",
      " [ 8 33]]               precision    recall  f1-score   support\n",
      "\n",
      "           0       0.90      0.91      0.91        79\n",
      "           1       0.82      0.80      0.81        41\n",
      "\n",
      "    accuracy                           0.88       120\n",
      "   macro avg       0.86      0.86      0.86       120\n",
      "weighted avg       0.87      0.88      0.87       120\n",
      "\n"
     ]
    }
   ],
   "source": [
    "y_pred=grid.predict(x_test)\n",
    "from sklearn.metrics import confusion_matrix\n",
    "cfm=confusion_matrix(y_test,y_pred)\n",
    "from sklearn.metrics import classification_report\n",
    "clfr=classification_report(y_test,y_pred)\n",
    "print(cfm,clfr)"
   ]
  },
  {
   "cell_type": "code",
   "execution_count": 22,
   "metadata": {},
   "outputs": [
    {
     "name": "stdout",
     "output_type": "stream",
     "text": [
      "f1_score and best parameters{'criterion': 'entropy', 'max_features': 'log2', 'splitter': 'best'}: 0.874621476822735\n"
     ]
    }
   ],
   "source": [
    "from sklearn.metrics import f1_score\n",
    "f1_macro=f1_score(y_test,y_pred,average=\"weighted\")\n",
    "print(\"f1_score and best parameters{}:\".format(grid.best_params_),f1_macro)"
   ]
  },
  {
   "cell_type": "code",
   "execution_count": 23,
   "metadata": {},
   "outputs": [
    {
     "name": "stdout",
     "output_type": "stream",
     "text": [
      "0.8581352269218895\n"
     ]
    }
   ],
   "source": [
    "from sklearn.metrics import roc_auc_score\n",
    "roc=roc_auc_score(y_test,grid.predict_proba(x_test)[:,1])\n",
    "print(roc)"
   ]
  },
  {
   "cell_type": "code",
   "execution_count": 24,
   "metadata": {},
   "outputs": [
    {
     "data": {
      "text/html": [
       "<div>\n",
       "<style scoped>\n",
       "    .dataframe tbody tr th:only-of-type {\n",
       "        vertical-align: middle;\n",
       "    }\n",
       "\n",
       "    .dataframe tbody tr th {\n",
       "        vertical-align: top;\n",
       "    }\n",
       "\n",
       "    .dataframe thead th {\n",
       "        text-align: right;\n",
       "    }\n",
       "</style>\n",
       "<table border=\"1\" class=\"dataframe\">\n",
       "  <thead>\n",
       "    <tr style=\"text-align: right;\">\n",
       "      <th></th>\n",
       "      <th>mean_fit_time</th>\n",
       "      <th>std_fit_time</th>\n",
       "      <th>mean_score_time</th>\n",
       "      <th>std_score_time</th>\n",
       "      <th>param_criterion</th>\n",
       "      <th>param_max_features</th>\n",
       "      <th>param_splitter</th>\n",
       "      <th>params</th>\n",
       "      <th>split0_test_score</th>\n",
       "      <th>split1_test_score</th>\n",
       "      <th>split2_test_score</th>\n",
       "      <th>mean_test_score</th>\n",
       "      <th>std_test_score</th>\n",
       "      <th>rank_test_score</th>\n",
       "    </tr>\n",
       "  </thead>\n",
       "  <tbody>\n",
       "    <tr>\n",
       "      <td>0</td>\n",
       "      <td>0.001667</td>\n",
       "      <td>0.002358</td>\n",
       "      <td>0.011668</td>\n",
       "      <td>0.009429</td>\n",
       "      <td>gini</td>\n",
       "      <td>auto</td>\n",
       "      <td>best</td>\n",
       "      <td>{'criterion': 'gini', 'max_features': 'auto', ...</td>\n",
       "      <td>0.801729</td>\n",
       "      <td>0.872743</td>\n",
       "      <td>0.889872</td>\n",
       "      <td>0.854592</td>\n",
       "      <td>0.038223</td>\n",
       "      <td>4</td>\n",
       "    </tr>\n",
       "    <tr>\n",
       "      <td>1</td>\n",
       "      <td>0.005003</td>\n",
       "      <td>0.000003</td>\n",
       "      <td>0.001668</td>\n",
       "      <td>0.002360</td>\n",
       "      <td>gini</td>\n",
       "      <td>auto</td>\n",
       "      <td>random</td>\n",
       "      <td>{'criterion': 'gini', 'max_features': 'auto', ...</td>\n",
       "      <td>0.829787</td>\n",
       "      <td>0.839189</td>\n",
       "      <td>0.740176</td>\n",
       "      <td>0.803146</td>\n",
       "      <td>0.044573</td>\n",
       "      <td>9</td>\n",
       "    </tr>\n",
       "    <tr>\n",
       "      <td>2</td>\n",
       "      <td>0.005004</td>\n",
       "      <td>0.000004</td>\n",
       "      <td>0.000000</td>\n",
       "      <td>0.000000</td>\n",
       "      <td>gini</td>\n",
       "      <td>sqrt</td>\n",
       "      <td>best</td>\n",
       "      <td>{'criterion': 'gini', 'max_features': 'sqrt', ...</td>\n",
       "      <td>0.821660</td>\n",
       "      <td>0.861345</td>\n",
       "      <td>0.870088</td>\n",
       "      <td>0.850926</td>\n",
       "      <td>0.021108</td>\n",
       "      <td>5</td>\n",
       "    </tr>\n",
       "    <tr>\n",
       "      <td>3</td>\n",
       "      <td>0.001667</td>\n",
       "      <td>0.002358</td>\n",
       "      <td>0.003335</td>\n",
       "      <td>0.002358</td>\n",
       "      <td>gini</td>\n",
       "      <td>sqrt</td>\n",
       "      <td>random</td>\n",
       "      <td>{'criterion': 'gini', 'max_features': 'sqrt', ...</td>\n",
       "      <td>0.851064</td>\n",
       "      <td>0.851533</td>\n",
       "      <td>0.738102</td>\n",
       "      <td>0.813700</td>\n",
       "      <td>0.053313</td>\n",
       "      <td>8</td>\n",
       "    </tr>\n",
       "    <tr>\n",
       "      <td>4</td>\n",
       "      <td>0.003332</td>\n",
       "      <td>0.002356</td>\n",
       "      <td>0.001668</td>\n",
       "      <td>0.002359</td>\n",
       "      <td>gini</td>\n",
       "      <td>log2</td>\n",
       "      <td>best</td>\n",
       "      <td>{'criterion': 'gini', 'max_features': 'log2', ...</td>\n",
       "      <td>0.769934</td>\n",
       "      <td>0.872288</td>\n",
       "      <td>0.870088</td>\n",
       "      <td>0.837196</td>\n",
       "      <td>0.047824</td>\n",
       "      <td>6</td>\n",
       "    </tr>\n",
       "    <tr>\n",
       "      <td>5</td>\n",
       "      <td>0.003334</td>\n",
       "      <td>0.004715</td>\n",
       "      <td>0.008337</td>\n",
       "      <td>0.008502</td>\n",
       "      <td>gini</td>\n",
       "      <td>log2</td>\n",
       "      <td>random</td>\n",
       "      <td>{'criterion': 'gini', 'max_features': 'log2', ...</td>\n",
       "      <td>0.782005</td>\n",
       "      <td>0.872288</td>\n",
       "      <td>0.741935</td>\n",
       "      <td>0.798683</td>\n",
       "      <td>0.054428</td>\n",
       "      <td>10</td>\n",
       "    </tr>\n",
       "    <tr>\n",
       "      <td>6</td>\n",
       "      <td>0.003333</td>\n",
       "      <td>0.002357</td>\n",
       "      <td>0.003334</td>\n",
       "      <td>0.002357</td>\n",
       "      <td>entropy</td>\n",
       "      <td>auto</td>\n",
       "      <td>best</td>\n",
       "      <td>{'criterion': 'entropy', 'max_features': 'auto...</td>\n",
       "      <td>0.825604</td>\n",
       "      <td>0.839189</td>\n",
       "      <td>0.924486</td>\n",
       "      <td>0.862959</td>\n",
       "      <td>0.043743</td>\n",
       "      <td>2</td>\n",
       "    </tr>\n",
       "    <tr>\n",
       "      <td>7</td>\n",
       "      <td>0.003335</td>\n",
       "      <td>0.002358</td>\n",
       "      <td>0.003572</td>\n",
       "      <td>0.002542</td>\n",
       "      <td>entropy</td>\n",
       "      <td>auto</td>\n",
       "      <td>random</td>\n",
       "      <td>{'criterion': 'entropy', 'max_features': 'auto...</td>\n",
       "      <td>0.809623</td>\n",
       "      <td>0.883154</td>\n",
       "      <td>0.787904</td>\n",
       "      <td>0.826832</td>\n",
       "      <td>0.040698</td>\n",
       "      <td>7</td>\n",
       "    </tr>\n",
       "    <tr>\n",
       "      <td>8</td>\n",
       "      <td>0.003332</td>\n",
       "      <td>0.002356</td>\n",
       "      <td>0.001669</td>\n",
       "      <td>0.002360</td>\n",
       "      <td>entropy</td>\n",
       "      <td>sqrt</td>\n",
       "      <td>best</td>\n",
       "      <td>{'criterion': 'entropy', 'max_features': 'sqrt...</td>\n",
       "      <td>0.815589</td>\n",
       "      <td>0.850315</td>\n",
       "      <td>0.901353</td>\n",
       "      <td>0.855609</td>\n",
       "      <td>0.035242</td>\n",
       "      <td>3</td>\n",
       "    </tr>\n",
       "    <tr>\n",
       "      <td>9</td>\n",
       "      <td>0.005000</td>\n",
       "      <td>0.000002</td>\n",
       "      <td>0.001667</td>\n",
       "      <td>0.002358</td>\n",
       "      <td>entropy</td>\n",
       "      <td>sqrt</td>\n",
       "      <td>random</td>\n",
       "      <td>{'criterion': 'entropy', 'max_features': 'sqrt...</td>\n",
       "      <td>0.861242</td>\n",
       "      <td>0.756931</td>\n",
       "      <td>0.773457</td>\n",
       "      <td>0.797439</td>\n",
       "      <td>0.045855</td>\n",
       "      <td>11</td>\n",
       "    </tr>\n",
       "    <tr>\n",
       "      <td>10</td>\n",
       "      <td>0.005003</td>\n",
       "      <td>0.000002</td>\n",
       "      <td>0.000000</td>\n",
       "      <td>0.000000</td>\n",
       "      <td>entropy</td>\n",
       "      <td>log2</td>\n",
       "      <td>best</td>\n",
       "      <td>{'criterion': 'entropy', 'max_features': 'log2...</td>\n",
       "      <td>0.843953</td>\n",
       "      <td>0.838184</td>\n",
       "      <td>0.924955</td>\n",
       "      <td>0.868941</td>\n",
       "      <td>0.039572</td>\n",
       "      <td>1</td>\n",
       "    </tr>\n",
       "    <tr>\n",
       "      <td>11</td>\n",
       "      <td>0.000000</td>\n",
       "      <td>0.000000</td>\n",
       "      <td>0.005005</td>\n",
       "      <td>0.000002</td>\n",
       "      <td>entropy</td>\n",
       "      <td>log2</td>\n",
       "      <td>random</td>\n",
       "      <td>{'criterion': 'entropy', 'max_features': 'log2...</td>\n",
       "      <td>0.797199</td>\n",
       "      <td>0.817748</td>\n",
       "      <td>0.763441</td>\n",
       "      <td>0.792812</td>\n",
       "      <td>0.022350</td>\n",
       "      <td>12</td>\n",
       "    </tr>\n",
       "  </tbody>\n",
       "</table>\n",
       "</div>"
      ],
      "text/plain": [
       "    mean_fit_time  std_fit_time  mean_score_time  std_score_time  \\\n",
       "0        0.001667      0.002358         0.011668        0.009429   \n",
       "1        0.005003      0.000003         0.001668        0.002360   \n",
       "2        0.005004      0.000004         0.000000        0.000000   \n",
       "3        0.001667      0.002358         0.003335        0.002358   \n",
       "4        0.003332      0.002356         0.001668        0.002359   \n",
       "5        0.003334      0.004715         0.008337        0.008502   \n",
       "6        0.003333      0.002357         0.003334        0.002357   \n",
       "7        0.003335      0.002358         0.003572        0.002542   \n",
       "8        0.003332      0.002356         0.001669        0.002360   \n",
       "9        0.005000      0.000002         0.001667        0.002358   \n",
       "10       0.005003      0.000002         0.000000        0.000000   \n",
       "11       0.000000      0.000000         0.005005        0.000002   \n",
       "\n",
       "   param_criterion param_max_features param_splitter  \\\n",
       "0             gini               auto           best   \n",
       "1             gini               auto         random   \n",
       "2             gini               sqrt           best   \n",
       "3             gini               sqrt         random   \n",
       "4             gini               log2           best   \n",
       "5             gini               log2         random   \n",
       "6          entropy               auto           best   \n",
       "7          entropy               auto         random   \n",
       "8          entropy               sqrt           best   \n",
       "9          entropy               sqrt         random   \n",
       "10         entropy               log2           best   \n",
       "11         entropy               log2         random   \n",
       "\n",
       "                                               params  split0_test_score  \\\n",
       "0   {'criterion': 'gini', 'max_features': 'auto', ...           0.801729   \n",
       "1   {'criterion': 'gini', 'max_features': 'auto', ...           0.829787   \n",
       "2   {'criterion': 'gini', 'max_features': 'sqrt', ...           0.821660   \n",
       "3   {'criterion': 'gini', 'max_features': 'sqrt', ...           0.851064   \n",
       "4   {'criterion': 'gini', 'max_features': 'log2', ...           0.769934   \n",
       "5   {'criterion': 'gini', 'max_features': 'log2', ...           0.782005   \n",
       "6   {'criterion': 'entropy', 'max_features': 'auto...           0.825604   \n",
       "7   {'criterion': 'entropy', 'max_features': 'auto...           0.809623   \n",
       "8   {'criterion': 'entropy', 'max_features': 'sqrt...           0.815589   \n",
       "9   {'criterion': 'entropy', 'max_features': 'sqrt...           0.861242   \n",
       "10  {'criterion': 'entropy', 'max_features': 'log2...           0.843953   \n",
       "11  {'criterion': 'entropy', 'max_features': 'log2...           0.797199   \n",
       "\n",
       "    split1_test_score  split2_test_score  mean_test_score  std_test_score  \\\n",
       "0            0.872743           0.889872         0.854592        0.038223   \n",
       "1            0.839189           0.740176         0.803146        0.044573   \n",
       "2            0.861345           0.870088         0.850926        0.021108   \n",
       "3            0.851533           0.738102         0.813700        0.053313   \n",
       "4            0.872288           0.870088         0.837196        0.047824   \n",
       "5            0.872288           0.741935         0.798683        0.054428   \n",
       "6            0.839189           0.924486         0.862959        0.043743   \n",
       "7            0.883154           0.787904         0.826832        0.040698   \n",
       "8            0.850315           0.901353         0.855609        0.035242   \n",
       "9            0.756931           0.773457         0.797439        0.045855   \n",
       "10           0.838184           0.924955         0.868941        0.039572   \n",
       "11           0.817748           0.763441         0.792812        0.022350   \n",
       "\n",
       "    rank_test_score  \n",
       "0                 4  \n",
       "1                 9  \n",
       "2                 5  \n",
       "3                 8  \n",
       "4                 6  \n",
       "5                10  \n",
       "6                 2  \n",
       "7                 7  \n",
       "8                 3  \n",
       "9                11  \n",
       "10                1  \n",
       "11               12  "
      ]
     },
     "execution_count": 24,
     "metadata": {},
     "output_type": "execute_result"
    }
   ],
   "source": [
    "table=pd.DataFrame.from_dict(re)\n",
    "table"
   ]
  },
  {
   "cell_type": "code",
   "execution_count": null,
   "metadata": {},
   "outputs": [],
   "source": []
  }
 ],
 "metadata": {
  "kernelspec": {
   "display_name": "Python 3",
   "language": "python",
   "name": "python3"
  },
  "language_info": {
   "codemirror_mode": {
    "name": "ipython",
    "version": 3
   },
   "file_extension": ".py",
   "mimetype": "text/x-python",
   "name": "python",
   "nbconvert_exporter": "python",
   "pygments_lexer": "ipython3",
   "version": "3.7.4"
  }
 },
 "nbformat": 4,
 "nbformat_minor": 2
}
