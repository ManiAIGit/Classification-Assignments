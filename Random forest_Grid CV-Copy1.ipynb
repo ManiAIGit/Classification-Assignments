{
 "cells": [
  {
   "cell_type": "code",
   "execution_count": 3,
   "metadata": {},
   "outputs": [],
   "source": [
    "import pandas as pd\n",
    "    "
   ]
  },
  {
   "cell_type": "code",
   "execution_count": 4,
   "metadata": {},
   "outputs": [],
   "source": [
    "data=pd.read_csv(\"Social_Network_Ads.csv\")"
   ]
  },
  {
   "cell_type": "code",
   "execution_count": 5,
   "metadata": {},
   "outputs": [],
   "source": [
    "data=pd.get_dummies(data, drop_first=True)"
   ]
  },
  {
   "cell_type": "code",
   "execution_count": 6,
   "metadata": {},
   "outputs": [
    {
     "data": {
      "text/plain": [
       "Index(['User ID', 'Age', 'EstimatedSalary', 'Purchased', 'Gender_Male'], dtype='object')"
      ]
     },
     "execution_count": 6,
     "metadata": {},
     "output_type": "execute_result"
    }
   ],
   "source": [
    "data.columns"
   ]
  },
  {
   "cell_type": "code",
   "execution_count": 7,
   "metadata": {},
   "outputs": [],
   "source": [
    "ind=data[['User ID', 'Age', 'EstimatedSalary', 'Gender_Male']]\n",
    "dep=data[['Purchased']]"
   ]
  },
  {
   "cell_type": "code",
   "execution_count": 8,
   "metadata": {},
   "outputs": [],
   "source": [
    "from sklearn.model_selection import train_test_split\n",
    "x_train,x_test,y_train,y_test=train_test_split(ind,dep,test_size=0.30,random_state=0)\n",
    "from sklearn.preprocessing import StandardScaler\n",
    "sc=StandardScaler()\n",
    "x_train=sc.fit_transform(x_train)\n",
    "x_test=sc.transform(x_test)"
   ]
  },
  {
   "cell_type": "code",
   "execution_count": 16,
   "metadata": {},
   "outputs": [
    {
     "name": "stderr",
     "output_type": "stream",
     "text": [
      "C:\\Users\\Admin\\Anaconda3\\lib\\site-packages\\sklearn\\model_selection\\_split.py:1978: FutureWarning: The default value of cv will change from 3 to 5 in version 0.22. Specify it explicitly to silence this warning.\n",
      "  warnings.warn(CV_WARNING, FutureWarning)\n",
      "[Parallel(n_jobs=-1)]: Using backend LokyBackend with 4 concurrent workers.\n"
     ]
    },
    {
     "name": "stdout",
     "output_type": "stream",
     "text": [
      "Fitting 3 folds for each of 12 candidates, totalling 36 fits\n"
     ]
    },
    {
     "name": "stderr",
     "output_type": "stream",
     "text": [
      "[Parallel(n_jobs=-1)]: Done  24 tasks      | elapsed:   17.3s\n",
      "[Parallel(n_jobs=-1)]: Done  36 out of  36 | elapsed:   19.9s finished\n",
      "C:\\Users\\Admin\\Anaconda3\\lib\\site-packages\\sklearn\\model_selection\\_search.py:715: DataConversionWarning: A column-vector y was passed when a 1d array was expected. Please change the shape of y to (n_samples,), for example using ravel().\n",
      "  self.best_estimator_.fit(X, y, **fit_params)\n"
     ]
    },
    {
     "data": {
      "text/plain": [
       "GridSearchCV(cv='warn', error_score='raise-deprecating',\n",
       "             estimator=RandomForestClassifier(bootstrap=True, class_weight=None,\n",
       "                                              criterion='gini', max_depth=None,\n",
       "                                              max_features='auto',\n",
       "                                              max_leaf_nodes=None,\n",
       "                                              min_impurity_decrease=0.0,\n",
       "                                              min_impurity_split=None,\n",
       "                                              min_samples_leaf=1,\n",
       "                                              min_samples_split=2,\n",
       "                                              min_weight_fraction_leaf=0.0,\n",
       "                                              n_estimators='warn', n_jobs=None,\n",
       "                                              oob_score=False,\n",
       "                                              random_state=None, verbose=0,\n",
       "                                              warm_start=False),\n",
       "             iid='warn', n_jobs=-1,\n",
       "             param_grid={'criterion': ['gini', 'entropy'],\n",
       "                         'max_features': ['auto', 'sqrt', 'log2'],\n",
       "                         'n_estimators': [10, 100]},\n",
       "             pre_dispatch='2*n_jobs', refit=True, return_train_score=False,\n",
       "             scoring='f1_weighted', verbose=3)"
      ]
     },
     "execution_count": 16,
     "metadata": {},
     "output_type": "execute_result"
    }
   ],
   "source": [
    "from sklearn.ensemble import RandomForestClassifier\n",
    "from sklearn.model_selection import GridSearchCV\n",
    "par={'criterion':['gini','entropy'],'max_features':['auto','sqrt','log2'],'n_estimators':[10,100]}\n",
    "grid=GridSearchCV(RandomForestClassifier(),par,refit=True,verbose=3,n_jobs=-1,scoring=\"f1_weighted\")\n",
    "grid.fit(x_train,y_train)"
   ]
  },
  {
   "cell_type": "code",
   "execution_count": 17,
   "metadata": {},
   "outputs": [
    {
     "name": "stdout",
     "output_type": "stream",
     "text": [
      "{'mean_fit_time': array([0.30173826, 0.79052615, 0.17321587, 0.64015412, 0.09502268,\n",
      "       0.40343142, 0.0850242 , 0.40784621, 0.09002471, 0.45844094,\n",
      "       0.08502261, 0.4726162 ]), 'std_fit_time': array([0.25321663, 0.34664553, 0.11081583, 0.19425084, 0.05716561,\n",
      "       0.03472855, 0.01779782, 0.03731274, 0.01871196, 0.03682645,\n",
      "       0.01080277, 0.01060448]), 'mean_score_time': array([0.011669  , 0.01500257, 0.00333317, 0.03834025, 0.00166456,\n",
      "       0.03167168, 0.00333261, 0.03834065, 0.00333373, 0.01667341,\n",
      "       0.00499829, 0.01500209]), 'std_score_time': array([1.31268363e-02, 4.08316214e-03, 2.35690830e-03, 2.71872456e-02,\n",
      "       2.35404198e-03, 2.35776778e-02, 2.35651460e-03, 3.30078383e-02,\n",
      "       2.35730199e-03, 2.35747037e-03, 1.99791671e-06, 2.13544032e-06]), 'param_criterion': masked_array(data=['gini', 'gini', 'gini', 'gini', 'gini', 'gini',\n",
      "                   'entropy', 'entropy', 'entropy', 'entropy', 'entropy',\n",
      "                   'entropy'],\n",
      "             mask=[False, False, False, False, False, False, False, False,\n",
      "                   False, False, False, False],\n",
      "       fill_value='?',\n",
      "            dtype=object), 'param_max_features': masked_array(data=['auto', 'auto', 'sqrt', 'sqrt', 'log2', 'log2', 'auto',\n",
      "                   'auto', 'sqrt', 'sqrt', 'log2', 'log2'],\n",
      "             mask=[False, False, False, False, False, False, False, False,\n",
      "                   False, False, False, False],\n",
      "       fill_value='?',\n",
      "            dtype=object), 'param_n_estimators': masked_array(data=[10, 100, 10, 100, 10, 100, 10, 100, 10, 100, 10, 100],\n",
      "             mask=[False, False, False, False, False, False, False, False,\n",
      "                   False, False, False, False],\n",
      "       fill_value='?',\n",
      "            dtype=object), 'params': [{'criterion': 'gini', 'max_features': 'auto', 'n_estimators': 10}, {'criterion': 'gini', 'max_features': 'auto', 'n_estimators': 100}, {'criterion': 'gini', 'max_features': 'sqrt', 'n_estimators': 10}, {'criterion': 'gini', 'max_features': 'sqrt', 'n_estimators': 100}, {'criterion': 'gini', 'max_features': 'log2', 'n_estimators': 10}, {'criterion': 'gini', 'max_features': 'log2', 'n_estimators': 100}, {'criterion': 'entropy', 'max_features': 'auto', 'n_estimators': 10}, {'criterion': 'entropy', 'max_features': 'auto', 'n_estimators': 100}, {'criterion': 'entropy', 'max_features': 'sqrt', 'n_estimators': 10}, {'criterion': 'entropy', 'max_features': 'sqrt', 'n_estimators': 100}, {'criterion': 'entropy', 'max_features': 'log2', 'n_estimators': 10}, {'criterion': 'entropy', 'max_features': 'log2', 'n_estimators': 100}], 'split0_test_score': array([0.83868907, 0.88258899, 0.82721345, 0.86124153, 0.85106383,\n",
      "       0.86124153, 0.87234043, 0.8621232 , 0.85002801, 0.87234043,\n",
      "       0.8601972 , 0.87308227]), 'split1_test_score': array([0.87169871, 0.86134497, 0.86063062, 0.87228825, 0.88267652,\n",
      "       0.85031516, 0.86134497, 0.85031516, 0.86134497, 0.85031516,\n",
      "       0.87228825, 0.86134497]), 'split2_test_score': array([0.92448573, 0.9572329 , 0.93548387, 0.94639639, 0.92495495,\n",
      "       0.9572329 , 0.91339198, 0.92448573, 0.90135252, 0.9572329 ,\n",
      "       0.9572329 , 0.9572329 ]), 'mean_test_score': array([0.87814974, 0.90032538, 0.87427397, 0.8931942 , 0.88610617,\n",
      "       0.88949527, 0.88232335, 0.87891452, 0.87083393, 0.89322132,\n",
      "       0.89644287, 0.89713384]), 'std_test_score': array([0.03535105, 0.04106001, 0.0452742 , 0.03778945, 0.03028913,\n",
      "       0.04797768, 0.02236592, 0.0324976 , 0.02201329, 0.0460302 ,\n",
      "       0.0431537 , 0.04265316]), 'rank_test_score': array([10,  1, 11,  5,  7,  6,  8,  9, 12,  4,  3,  2])}\n"
     ]
    }
   ],
   "source": [
    "re=grid.cv_results_\n",
    "print(re)"
   ]
  },
  {
   "cell_type": "code",
   "execution_count": 18,
   "metadata": {},
   "outputs": [
    {
     "name": "stdout",
     "output_type": "stream",
     "text": [
      "[[72  7]\n",
      " [ 3 38]]               precision    recall  f1-score   support\n",
      "\n",
      "           0       0.96      0.91      0.94        79\n",
      "           1       0.84      0.93      0.88        41\n",
      "\n",
      "    accuracy                           0.92       120\n",
      "   macro avg       0.90      0.92      0.91       120\n",
      "weighted avg       0.92      0.92      0.92       120\n",
      "\n"
     ]
    }
   ],
   "source": [
    "y_pred=grid.predict(x_test)\n",
    "from sklearn.metrics import confusion_matrix\n",
    "cfm=confusion_matrix(y_test,y_pred)\n",
    "from sklearn.metrics import classification_report\n",
    "clfr=classification_report(y_test,y_pred)\n",
    "print(cfm,clfr)"
   ]
  },
  {
   "cell_type": "code",
   "execution_count": 19,
   "metadata": {},
   "outputs": [
    {
     "name": "stdout",
     "output_type": "stream",
     "text": [
      "f1_score and best parameters{'criterion': 'gini', 'max_features': 'auto', 'n_estimators': 100}: 0.9175224000805396\n"
     ]
    }
   ],
   "source": [
    "from sklearn.metrics import f1_score\n",
    "f1_macro=f1_score(y_test,y_pred,average=\"weighted\")\n",
    "print(\"f1_score and best parameters{}:\".format(grid.best_params_),f1_macro)"
   ]
  },
  {
   "cell_type": "code",
   "execution_count": 20,
   "metadata": {},
   "outputs": [
    {
     "name": "stdout",
     "output_type": "stream",
     "text": [
      "0.9450447669033653\n"
     ]
    }
   ],
   "source": [
    "from sklearn.metrics import roc_auc_score\n",
    "roc=roc_auc_score(y_test,grid.predict_proba(x_test)[:,1])\n",
    "print(roc)"
   ]
  },
  {
   "cell_type": "code",
   "execution_count": 21,
   "metadata": {},
   "outputs": [
    {
     "data": {
      "text/html": [
       "<div>\n",
       "<style scoped>\n",
       "    .dataframe tbody tr th:only-of-type {\n",
       "        vertical-align: middle;\n",
       "    }\n",
       "\n",
       "    .dataframe tbody tr th {\n",
       "        vertical-align: top;\n",
       "    }\n",
       "\n",
       "    .dataframe thead th {\n",
       "        text-align: right;\n",
       "    }\n",
       "</style>\n",
       "<table border=\"1\" class=\"dataframe\">\n",
       "  <thead>\n",
       "    <tr style=\"text-align: right;\">\n",
       "      <th></th>\n",
       "      <th>mean_fit_time</th>\n",
       "      <th>std_fit_time</th>\n",
       "      <th>mean_score_time</th>\n",
       "      <th>std_score_time</th>\n",
       "      <th>param_criterion</th>\n",
       "      <th>param_max_features</th>\n",
       "      <th>param_n_estimators</th>\n",
       "      <th>params</th>\n",
       "      <th>split0_test_score</th>\n",
       "      <th>split1_test_score</th>\n",
       "      <th>split2_test_score</th>\n",
       "      <th>mean_test_score</th>\n",
       "      <th>std_test_score</th>\n",
       "      <th>rank_test_score</th>\n",
       "    </tr>\n",
       "  </thead>\n",
       "  <tbody>\n",
       "    <tr>\n",
       "      <td>0</td>\n",
       "      <td>0.301738</td>\n",
       "      <td>0.253217</td>\n",
       "      <td>0.011669</td>\n",
       "      <td>0.013127</td>\n",
       "      <td>gini</td>\n",
       "      <td>auto</td>\n",
       "      <td>10</td>\n",
       "      <td>{'criterion': 'gini', 'max_features': 'auto', ...</td>\n",
       "      <td>0.838689</td>\n",
       "      <td>0.871699</td>\n",
       "      <td>0.924486</td>\n",
       "      <td>0.878150</td>\n",
       "      <td>0.035351</td>\n",
       "      <td>10</td>\n",
       "    </tr>\n",
       "    <tr>\n",
       "      <td>1</td>\n",
       "      <td>0.790526</td>\n",
       "      <td>0.346646</td>\n",
       "      <td>0.015003</td>\n",
       "      <td>0.004083</td>\n",
       "      <td>gini</td>\n",
       "      <td>auto</td>\n",
       "      <td>100</td>\n",
       "      <td>{'criterion': 'gini', 'max_features': 'auto', ...</td>\n",
       "      <td>0.882589</td>\n",
       "      <td>0.861345</td>\n",
       "      <td>0.957233</td>\n",
       "      <td>0.900325</td>\n",
       "      <td>0.041060</td>\n",
       "      <td>1</td>\n",
       "    </tr>\n",
       "    <tr>\n",
       "      <td>2</td>\n",
       "      <td>0.173216</td>\n",
       "      <td>0.110816</td>\n",
       "      <td>0.003333</td>\n",
       "      <td>0.002357</td>\n",
       "      <td>gini</td>\n",
       "      <td>sqrt</td>\n",
       "      <td>10</td>\n",
       "      <td>{'criterion': 'gini', 'max_features': 'sqrt', ...</td>\n",
       "      <td>0.827213</td>\n",
       "      <td>0.860631</td>\n",
       "      <td>0.935484</td>\n",
       "      <td>0.874274</td>\n",
       "      <td>0.045274</td>\n",
       "      <td>11</td>\n",
       "    </tr>\n",
       "    <tr>\n",
       "      <td>3</td>\n",
       "      <td>0.640154</td>\n",
       "      <td>0.194251</td>\n",
       "      <td>0.038340</td>\n",
       "      <td>0.027187</td>\n",
       "      <td>gini</td>\n",
       "      <td>sqrt</td>\n",
       "      <td>100</td>\n",
       "      <td>{'criterion': 'gini', 'max_features': 'sqrt', ...</td>\n",
       "      <td>0.861242</td>\n",
       "      <td>0.872288</td>\n",
       "      <td>0.946396</td>\n",
       "      <td>0.893194</td>\n",
       "      <td>0.037789</td>\n",
       "      <td>5</td>\n",
       "    </tr>\n",
       "    <tr>\n",
       "      <td>4</td>\n",
       "      <td>0.095023</td>\n",
       "      <td>0.057166</td>\n",
       "      <td>0.001665</td>\n",
       "      <td>0.002354</td>\n",
       "      <td>gini</td>\n",
       "      <td>log2</td>\n",
       "      <td>10</td>\n",
       "      <td>{'criterion': 'gini', 'max_features': 'log2', ...</td>\n",
       "      <td>0.851064</td>\n",
       "      <td>0.882677</td>\n",
       "      <td>0.924955</td>\n",
       "      <td>0.886106</td>\n",
       "      <td>0.030289</td>\n",
       "      <td>7</td>\n",
       "    </tr>\n",
       "    <tr>\n",
       "      <td>5</td>\n",
       "      <td>0.403431</td>\n",
       "      <td>0.034729</td>\n",
       "      <td>0.031672</td>\n",
       "      <td>0.023578</td>\n",
       "      <td>gini</td>\n",
       "      <td>log2</td>\n",
       "      <td>100</td>\n",
       "      <td>{'criterion': 'gini', 'max_features': 'log2', ...</td>\n",
       "      <td>0.861242</td>\n",
       "      <td>0.850315</td>\n",
       "      <td>0.957233</td>\n",
       "      <td>0.889495</td>\n",
       "      <td>0.047978</td>\n",
       "      <td>6</td>\n",
       "    </tr>\n",
       "    <tr>\n",
       "      <td>6</td>\n",
       "      <td>0.085024</td>\n",
       "      <td>0.017798</td>\n",
       "      <td>0.003333</td>\n",
       "      <td>0.002357</td>\n",
       "      <td>entropy</td>\n",
       "      <td>auto</td>\n",
       "      <td>10</td>\n",
       "      <td>{'criterion': 'entropy', 'max_features': 'auto...</td>\n",
       "      <td>0.872340</td>\n",
       "      <td>0.861345</td>\n",
       "      <td>0.913392</td>\n",
       "      <td>0.882323</td>\n",
       "      <td>0.022366</td>\n",
       "      <td>8</td>\n",
       "    </tr>\n",
       "    <tr>\n",
       "      <td>7</td>\n",
       "      <td>0.407846</td>\n",
       "      <td>0.037313</td>\n",
       "      <td>0.038341</td>\n",
       "      <td>0.033008</td>\n",
       "      <td>entropy</td>\n",
       "      <td>auto</td>\n",
       "      <td>100</td>\n",
       "      <td>{'criterion': 'entropy', 'max_features': 'auto...</td>\n",
       "      <td>0.862123</td>\n",
       "      <td>0.850315</td>\n",
       "      <td>0.924486</td>\n",
       "      <td>0.878915</td>\n",
       "      <td>0.032498</td>\n",
       "      <td>9</td>\n",
       "    </tr>\n",
       "    <tr>\n",
       "      <td>8</td>\n",
       "      <td>0.090025</td>\n",
       "      <td>0.018712</td>\n",
       "      <td>0.003334</td>\n",
       "      <td>0.002357</td>\n",
       "      <td>entropy</td>\n",
       "      <td>sqrt</td>\n",
       "      <td>10</td>\n",
       "      <td>{'criterion': 'entropy', 'max_features': 'sqrt...</td>\n",
       "      <td>0.850028</td>\n",
       "      <td>0.861345</td>\n",
       "      <td>0.901353</td>\n",
       "      <td>0.870834</td>\n",
       "      <td>0.022013</td>\n",
       "      <td>12</td>\n",
       "    </tr>\n",
       "    <tr>\n",
       "      <td>9</td>\n",
       "      <td>0.458441</td>\n",
       "      <td>0.036826</td>\n",
       "      <td>0.016673</td>\n",
       "      <td>0.002357</td>\n",
       "      <td>entropy</td>\n",
       "      <td>sqrt</td>\n",
       "      <td>100</td>\n",
       "      <td>{'criterion': 'entropy', 'max_features': 'sqrt...</td>\n",
       "      <td>0.872340</td>\n",
       "      <td>0.850315</td>\n",
       "      <td>0.957233</td>\n",
       "      <td>0.893221</td>\n",
       "      <td>0.046030</td>\n",
       "      <td>4</td>\n",
       "    </tr>\n",
       "    <tr>\n",
       "      <td>10</td>\n",
       "      <td>0.085023</td>\n",
       "      <td>0.010803</td>\n",
       "      <td>0.004998</td>\n",
       "      <td>0.000002</td>\n",
       "      <td>entropy</td>\n",
       "      <td>log2</td>\n",
       "      <td>10</td>\n",
       "      <td>{'criterion': 'entropy', 'max_features': 'log2...</td>\n",
       "      <td>0.860197</td>\n",
       "      <td>0.872288</td>\n",
       "      <td>0.957233</td>\n",
       "      <td>0.896443</td>\n",
       "      <td>0.043154</td>\n",
       "      <td>3</td>\n",
       "    </tr>\n",
       "    <tr>\n",
       "      <td>11</td>\n",
       "      <td>0.472616</td>\n",
       "      <td>0.010604</td>\n",
       "      <td>0.015002</td>\n",
       "      <td>0.000002</td>\n",
       "      <td>entropy</td>\n",
       "      <td>log2</td>\n",
       "      <td>100</td>\n",
       "      <td>{'criterion': 'entropy', 'max_features': 'log2...</td>\n",
       "      <td>0.873082</td>\n",
       "      <td>0.861345</td>\n",
       "      <td>0.957233</td>\n",
       "      <td>0.897134</td>\n",
       "      <td>0.042653</td>\n",
       "      <td>2</td>\n",
       "    </tr>\n",
       "  </tbody>\n",
       "</table>\n",
       "</div>"
      ],
      "text/plain": [
       "    mean_fit_time  std_fit_time  mean_score_time  std_score_time  \\\n",
       "0        0.301738      0.253217         0.011669        0.013127   \n",
       "1        0.790526      0.346646         0.015003        0.004083   \n",
       "2        0.173216      0.110816         0.003333        0.002357   \n",
       "3        0.640154      0.194251         0.038340        0.027187   \n",
       "4        0.095023      0.057166         0.001665        0.002354   \n",
       "5        0.403431      0.034729         0.031672        0.023578   \n",
       "6        0.085024      0.017798         0.003333        0.002357   \n",
       "7        0.407846      0.037313         0.038341        0.033008   \n",
       "8        0.090025      0.018712         0.003334        0.002357   \n",
       "9        0.458441      0.036826         0.016673        0.002357   \n",
       "10       0.085023      0.010803         0.004998        0.000002   \n",
       "11       0.472616      0.010604         0.015002        0.000002   \n",
       "\n",
       "   param_criterion param_max_features param_n_estimators  \\\n",
       "0             gini               auto                 10   \n",
       "1             gini               auto                100   \n",
       "2             gini               sqrt                 10   \n",
       "3             gini               sqrt                100   \n",
       "4             gini               log2                 10   \n",
       "5             gini               log2                100   \n",
       "6          entropy               auto                 10   \n",
       "7          entropy               auto                100   \n",
       "8          entropy               sqrt                 10   \n",
       "9          entropy               sqrt                100   \n",
       "10         entropy               log2                 10   \n",
       "11         entropy               log2                100   \n",
       "\n",
       "                                               params  split0_test_score  \\\n",
       "0   {'criterion': 'gini', 'max_features': 'auto', ...           0.838689   \n",
       "1   {'criterion': 'gini', 'max_features': 'auto', ...           0.882589   \n",
       "2   {'criterion': 'gini', 'max_features': 'sqrt', ...           0.827213   \n",
       "3   {'criterion': 'gini', 'max_features': 'sqrt', ...           0.861242   \n",
       "4   {'criterion': 'gini', 'max_features': 'log2', ...           0.851064   \n",
       "5   {'criterion': 'gini', 'max_features': 'log2', ...           0.861242   \n",
       "6   {'criterion': 'entropy', 'max_features': 'auto...           0.872340   \n",
       "7   {'criterion': 'entropy', 'max_features': 'auto...           0.862123   \n",
       "8   {'criterion': 'entropy', 'max_features': 'sqrt...           0.850028   \n",
       "9   {'criterion': 'entropy', 'max_features': 'sqrt...           0.872340   \n",
       "10  {'criterion': 'entropy', 'max_features': 'log2...           0.860197   \n",
       "11  {'criterion': 'entropy', 'max_features': 'log2...           0.873082   \n",
       "\n",
       "    split1_test_score  split2_test_score  mean_test_score  std_test_score  \\\n",
       "0            0.871699           0.924486         0.878150        0.035351   \n",
       "1            0.861345           0.957233         0.900325        0.041060   \n",
       "2            0.860631           0.935484         0.874274        0.045274   \n",
       "3            0.872288           0.946396         0.893194        0.037789   \n",
       "4            0.882677           0.924955         0.886106        0.030289   \n",
       "5            0.850315           0.957233         0.889495        0.047978   \n",
       "6            0.861345           0.913392         0.882323        0.022366   \n",
       "7            0.850315           0.924486         0.878915        0.032498   \n",
       "8            0.861345           0.901353         0.870834        0.022013   \n",
       "9            0.850315           0.957233         0.893221        0.046030   \n",
       "10           0.872288           0.957233         0.896443        0.043154   \n",
       "11           0.861345           0.957233         0.897134        0.042653   \n",
       "\n",
       "    rank_test_score  \n",
       "0                10  \n",
       "1                 1  \n",
       "2                11  \n",
       "3                 5  \n",
       "4                 7  \n",
       "5                 6  \n",
       "6                 8  \n",
       "7                 9  \n",
       "8                12  \n",
       "9                 4  \n",
       "10                3  \n",
       "11                2  "
      ]
     },
     "execution_count": 21,
     "metadata": {},
     "output_type": "execute_result"
    }
   ],
   "source": [
    "table=pd.DataFrame.from_dict(re)\n",
    "table"
   ]
  },
  {
   "cell_type": "code",
   "execution_count": null,
   "metadata": {},
   "outputs": [],
   "source": []
  },
  {
   "cell_type": "code",
   "execution_count": null,
   "metadata": {},
   "outputs": [],
   "source": []
  }
 ],
 "metadata": {
  "kernelspec": {
   "display_name": "Python 3",
   "language": "python",
   "name": "python3"
  },
  "language_info": {
   "codemirror_mode": {
    "name": "ipython",
    "version": 3
   },
   "file_extension": ".py",
   "mimetype": "text/x-python",
   "name": "python",
   "nbconvert_exporter": "python",
   "pygments_lexer": "ipython3",
   "version": "3.7.4"
  }
 },
 "nbformat": 4,
 "nbformat_minor": 2
}
