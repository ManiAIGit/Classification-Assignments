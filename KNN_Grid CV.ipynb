{
 "cells": [
  {
   "cell_type": "code",
   "execution_count": 1,
   "metadata": {},
   "outputs": [],
   "source": [
    "import pandas as pd"
   ]
  },
  {
   "cell_type": "code",
   "execution_count": 2,
   "metadata": {},
   "outputs": [],
   "source": [
    "data=pd.read_csv(\"Social_Network_Ads.csv\")"
   ]
  },
  {
   "cell_type": "code",
   "execution_count": 3,
   "metadata": {},
   "outputs": [],
   "source": [
    "data=pd.get_dummies(data,drop_first=True)"
   ]
  },
  {
   "cell_type": "code",
   "execution_count": 7,
   "metadata": {},
   "outputs": [
    {
     "data": {
      "text/plain": [
       "Index(['User ID', 'Age', 'EstimatedSalary', 'Purchased', 'Gender_Male'], dtype='object')"
      ]
     },
     "execution_count": 7,
     "metadata": {},
     "output_type": "execute_result"
    }
   ],
   "source": [
    "data.columns"
   ]
  },
  {
   "cell_type": "code",
   "execution_count": 8,
   "metadata": {},
   "outputs": [],
   "source": [
    "indep=data[['User ID', 'Age', 'EstimatedSalary','Gender_Male']]"
   ]
  },
  {
   "cell_type": "code",
   "execution_count": 9,
   "metadata": {},
   "outputs": [],
   "source": [
    "dep=data[['Purchased']]"
   ]
  },
  {
   "cell_type": "code",
   "execution_count": 11,
   "metadata": {},
   "outputs": [],
   "source": [
    "from sklearn.model_selection import train_test_split\n",
    "x_train,x_test,y_train,y_test=train_test_split(indep,dep,test_size=0.30,random_state=0)"
   ]
  },
  {
   "cell_type": "code",
   "execution_count": 16,
   "metadata": {},
   "outputs": [],
   "source": [
    "from sklearn.preprocessing import StandardScaler\n",
    "sc=StandardScaler()\n",
    "x_train=sc.fit_transform(x_train)\n",
    "x_test=sc.transform(x_test)"
   ]
  },
  {
   "cell_type": "code",
   "execution_count": 22,
   "metadata": {},
   "outputs": [
    {
     "name": "stderr",
     "output_type": "stream",
     "text": [
      "C:\\Users\\Admin\\Anaconda3\\lib\\site-packages\\sklearn\\model_selection\\_split.py:1978: FutureWarning: The default value of cv will change from 3 to 5 in version 0.22. Specify it explicitly to silence this warning.\n",
      "  warnings.warn(CV_WARNING, FutureWarning)\n",
      "[Parallel(n_jobs=-1)]: Using backend LokyBackend with 4 concurrent workers.\n"
     ]
    },
    {
     "name": "stdout",
     "output_type": "stream",
     "text": [
      "Fitting 3 folds for each of 4 candidates, totalling 12 fits\n"
     ]
    },
    {
     "name": "stderr",
     "output_type": "stream",
     "text": [
      "[Parallel(n_jobs=-1)]: Done  10 out of  12 | elapsed:    3.9s remaining:    0.7s\n",
      "[Parallel(n_jobs=-1)]: Done  12 out of  12 | elapsed:    4.0s finished\n",
      "C:\\Users\\Admin\\Anaconda3\\lib\\site-packages\\sklearn\\model_selection\\_search.py:715: DataConversionWarning: A column-vector y was passed when a 1d array was expected. Please change the shape of y to (n_samples, ), for example using ravel().\n",
      "  self.best_estimator_.fit(X, y, **fit_params)\n"
     ]
    },
    {
     "data": {
      "text/plain": [
       "GridSearchCV(cv='warn', error_score='raise-deprecating',\n",
       "             estimator=KNeighborsClassifier(algorithm='auto', leaf_size=30,\n",
       "                                            metric='minkowski',\n",
       "                                            metric_params=None, n_jobs=None,\n",
       "                                            n_neighbors=5, p=2,\n",
       "                                            weights='uniform'),\n",
       "             iid='warn', n_jobs=-1,\n",
       "             param_grid={'algorithm': ['auto', 'ball_tree', 'kd_tree', 'brute'],\n",
       "                         'metric': ['minkowski'], 'n_neighbors': [5],\n",
       "                         'weights': ['uniform']},\n",
       "             pre_dispatch='2*n_jobs', refit=True, return_train_score=False,\n",
       "             scoring='f1_weighted', verbose=3)"
      ]
     },
     "execution_count": 22,
     "metadata": {},
     "output_type": "execute_result"
    }
   ],
   "source": [
    "from sklearn.neighbors import KNeighborsClassifier\n",
    "from sklearn.model_selection import GridSearchCV\n",
    "parm={'n_neighbors':[5],'weights':['uniform'],'algorithm':['auto','ball_tree','kd_tree','brute'],'metric':['minkowski']}\n",
    "grid=GridSearchCV(KNeighborsClassifier(),parm,refit=True,verbose=3,n_jobs=-1,scoring=\"f1_weighted\")\n",
    "grid.fit(x_train,y_train)"
   ]
  },
  {
   "cell_type": "code",
   "execution_count": 24,
   "metadata": {},
   "outputs": [
    {
     "name": "stdout",
     "output_type": "stream",
     "text": [
      "{'mean_fit_time': array([0.02000443, 0.00666833, 0.00500234, 0.00666801]), 'std_fit_time': array([4.08403640e-03, 2.35820368e-03, 2.35486545e-06, 2.35758233e-03]), 'mean_score_time': array([0.0316759 , 0.01000961, 0.01166598, 0.02185607]), 'std_score_time': array([0.01247558, 0.00409339, 0.00623764, 0.00623584]), 'param_algorithm': masked_array(data=['auto', 'ball_tree', 'kd_tree', 'brute'],\n",
      "             mask=[False, False, False, False],\n",
      "       fill_value='?',\n",
      "            dtype=object), 'param_metric': masked_array(data=['minkowski', 'minkowski', 'minkowski', 'minkowski'],\n",
      "             mask=[False, False, False, False],\n",
      "       fill_value='?',\n",
      "            dtype=object), 'param_n_neighbors': masked_array(data=[5, 5, 5, 5],\n",
      "             mask=[False, False, False, False],\n",
      "       fill_value='?',\n",
      "            dtype=object), 'param_weights': masked_array(data=['uniform', 'uniform', 'uniform', 'uniform'],\n",
      "             mask=[False, False, False, False],\n",
      "       fill_value='?',\n",
      "            dtype=object), 'params': [{'algorithm': 'auto', 'metric': 'minkowski', 'n_neighbors': 5, 'weights': 'uniform'}, {'algorithm': 'ball_tree', 'metric': 'minkowski', 'n_neighbors': 5, 'weights': 'uniform'}, {'algorithm': 'kd_tree', 'metric': 'minkowski', 'n_neighbors': 5, 'weights': 'uniform'}, {'algorithm': 'brute', 'metric': 'minkowski', 'n_neighbors': 5, 'weights': 'uniform'}], 'split0_test_score': array([0.88067545, 0.88067545, 0.88067545, 0.88067545]), 'split1_test_score': array([0.85975921, 0.85975921, 0.85975921, 0.85975921]), 'split2_test_score': array([0.87824573, 0.87824573, 0.87824573, 0.87824573]), 'mean_test_score': array([0.87292126, 0.87292126, 0.87292126, 0.87292126]), 'std_test_score': array([0.00933499, 0.00933499, 0.00933499, 0.00933499]), 'rank_test_score': array([1, 1, 1, 1])}\n"
     ]
    }
   ],
   "source": [
    "re=grid.cv_results_\n",
    "print(re)"
   ]
  },
  {
   "cell_type": "code",
   "execution_count": 25,
   "metadata": {},
   "outputs": [],
   "source": [
    "y_pred=grid.predict(x_test)"
   ]
  },
  {
   "cell_type": "code",
   "execution_count": 28,
   "metadata": {},
   "outputs": [
    {
     "name": "stdout",
     "output_type": "stream",
     "text": [
      "[[79  0]\n",
      " [41  0]]               precision    recall  f1-score   support\n",
      "\n",
      "           0       0.66      1.00      0.79        79\n",
      "           1       0.00      0.00      0.00        41\n",
      "\n",
      "    accuracy                           0.66       120\n",
      "   macro avg       0.33      0.50      0.40       120\n",
      "weighted avg       0.43      0.66      0.52       120\n",
      "\n"
     ]
    },
    {
     "name": "stderr",
     "output_type": "stream",
     "text": [
      "C:\\Users\\Admin\\Anaconda3\\lib\\site-packages\\sklearn\\metrics\\classification.py:1437: UndefinedMetricWarning: Precision and F-score are ill-defined and being set to 0.0 in labels with no predicted samples.\n",
      "  'precision', 'predicted', average, warn_for)\n"
     ]
    }
   ],
   "source": [
    "from sklearn.metrics import confusion_matrix\n",
    "cfm=confusion_matrix(y_test,y_pred)\n",
    "from sklearn.metrics import classification_report\n",
    "clfr=classification_report(y_test,y_pred)\n",
    "print(cfm,clfr)"
   ]
  },
  {
   "cell_type": "code",
   "execution_count": 32,
   "metadata": {},
   "outputs": [
    {
     "name": "stdout",
     "output_type": "stream",
     "text": [
      "F1 score and best parameter{}: {'algorithm': 'auto', 'metric': 'minkowski', 'n_neighbors': 5, 'weights': 'uniform'} 0.5226968174204355\n"
     ]
    },
    {
     "name": "stderr",
     "output_type": "stream",
     "text": [
      "C:\\Users\\Admin\\Anaconda3\\lib\\site-packages\\sklearn\\metrics\\classification.py:1437: UndefinedMetricWarning: F-score is ill-defined and being set to 0.0 in labels with no predicted samples.\n",
      "  'precision', 'predicted', average, warn_for)\n"
     ]
    }
   ],
   "source": [
    "from sklearn.metrics import f1_score\n",
    "f1_macro=f1_score(y_test,y_pred,average=\"weighted\")\n",
    "print(\"F1 score and best parameter{}:\",format(grid.best_params_),f1_macro)"
   ]
  },
  {
   "cell_type": "code",
   "execution_count": 33,
   "metadata": {},
   "outputs": [
    {
     "name": "stdout",
     "output_type": "stream",
     "text": [
      "0.5\n"
     ]
    }
   ],
   "source": [
    "from sklearn.metrics import roc_auc_score\n",
    "roc=roc_auc_score(y_test,grid.predict_proba(x_test)[:,1])\n",
    "print(roc)"
   ]
  },
  {
   "cell_type": "code",
   "execution_count": 36,
   "metadata": {},
   "outputs": [
    {
     "data": {
      "text/html": [
       "<div>\n",
       "<style scoped>\n",
       "    .dataframe tbody tr th:only-of-type {\n",
       "        vertical-align: middle;\n",
       "    }\n",
       "\n",
       "    .dataframe tbody tr th {\n",
       "        vertical-align: top;\n",
       "    }\n",
       "\n",
       "    .dataframe thead th {\n",
       "        text-align: right;\n",
       "    }\n",
       "</style>\n",
       "<table border=\"1\" class=\"dataframe\">\n",
       "  <thead>\n",
       "    <tr style=\"text-align: right;\">\n",
       "      <th></th>\n",
       "      <th>mean_fit_time</th>\n",
       "      <th>std_fit_time</th>\n",
       "      <th>mean_score_time</th>\n",
       "      <th>std_score_time</th>\n",
       "      <th>param_algorithm</th>\n",
       "      <th>param_metric</th>\n",
       "      <th>param_n_neighbors</th>\n",
       "      <th>param_weights</th>\n",
       "      <th>params</th>\n",
       "      <th>split0_test_score</th>\n",
       "      <th>split1_test_score</th>\n",
       "      <th>split2_test_score</th>\n",
       "      <th>mean_test_score</th>\n",
       "      <th>std_test_score</th>\n",
       "      <th>rank_test_score</th>\n",
       "    </tr>\n",
       "  </thead>\n",
       "  <tbody>\n",
       "    <tr>\n",
       "      <td>0</td>\n",
       "      <td>0.020004</td>\n",
       "      <td>0.004084</td>\n",
       "      <td>0.031676</td>\n",
       "      <td>0.012476</td>\n",
       "      <td>auto</td>\n",
       "      <td>minkowski</td>\n",
       "      <td>5</td>\n",
       "      <td>uniform</td>\n",
       "      <td>{'algorithm': 'auto', 'metric': 'minkowski', '...</td>\n",
       "      <td>0.880675</td>\n",
       "      <td>0.859759</td>\n",
       "      <td>0.878246</td>\n",
       "      <td>0.872921</td>\n",
       "      <td>0.009335</td>\n",
       "      <td>1</td>\n",
       "    </tr>\n",
       "    <tr>\n",
       "      <td>1</td>\n",
       "      <td>0.006668</td>\n",
       "      <td>0.002358</td>\n",
       "      <td>0.010010</td>\n",
       "      <td>0.004093</td>\n",
       "      <td>ball_tree</td>\n",
       "      <td>minkowski</td>\n",
       "      <td>5</td>\n",
       "      <td>uniform</td>\n",
       "      <td>{'algorithm': 'ball_tree', 'metric': 'minkowsk...</td>\n",
       "      <td>0.880675</td>\n",
       "      <td>0.859759</td>\n",
       "      <td>0.878246</td>\n",
       "      <td>0.872921</td>\n",
       "      <td>0.009335</td>\n",
       "      <td>1</td>\n",
       "    </tr>\n",
       "    <tr>\n",
       "      <td>2</td>\n",
       "      <td>0.005002</td>\n",
       "      <td>0.000002</td>\n",
       "      <td>0.011666</td>\n",
       "      <td>0.006238</td>\n",
       "      <td>kd_tree</td>\n",
       "      <td>minkowski</td>\n",
       "      <td>5</td>\n",
       "      <td>uniform</td>\n",
       "      <td>{'algorithm': 'kd_tree', 'metric': 'minkowski'...</td>\n",
       "      <td>0.880675</td>\n",
       "      <td>0.859759</td>\n",
       "      <td>0.878246</td>\n",
       "      <td>0.872921</td>\n",
       "      <td>0.009335</td>\n",
       "      <td>1</td>\n",
       "    </tr>\n",
       "    <tr>\n",
       "      <td>3</td>\n",
       "      <td>0.006668</td>\n",
       "      <td>0.002358</td>\n",
       "      <td>0.021856</td>\n",
       "      <td>0.006236</td>\n",
       "      <td>brute</td>\n",
       "      <td>minkowski</td>\n",
       "      <td>5</td>\n",
       "      <td>uniform</td>\n",
       "      <td>{'algorithm': 'brute', 'metric': 'minkowski', ...</td>\n",
       "      <td>0.880675</td>\n",
       "      <td>0.859759</td>\n",
       "      <td>0.878246</td>\n",
       "      <td>0.872921</td>\n",
       "      <td>0.009335</td>\n",
       "      <td>1</td>\n",
       "    </tr>\n",
       "  </tbody>\n",
       "</table>\n",
       "</div>"
      ],
      "text/plain": [
       "   mean_fit_time  std_fit_time  mean_score_time  std_score_time  \\\n",
       "0       0.020004      0.004084         0.031676        0.012476   \n",
       "1       0.006668      0.002358         0.010010        0.004093   \n",
       "2       0.005002      0.000002         0.011666        0.006238   \n",
       "3       0.006668      0.002358         0.021856        0.006236   \n",
       "\n",
       "  param_algorithm param_metric param_n_neighbors param_weights  \\\n",
       "0            auto    minkowski                 5       uniform   \n",
       "1       ball_tree    minkowski                 5       uniform   \n",
       "2         kd_tree    minkowski                 5       uniform   \n",
       "3           brute    minkowski                 5       uniform   \n",
       "\n",
       "                                              params  split0_test_score  \\\n",
       "0  {'algorithm': 'auto', 'metric': 'minkowski', '...           0.880675   \n",
       "1  {'algorithm': 'ball_tree', 'metric': 'minkowsk...           0.880675   \n",
       "2  {'algorithm': 'kd_tree', 'metric': 'minkowski'...           0.880675   \n",
       "3  {'algorithm': 'brute', 'metric': 'minkowski', ...           0.880675   \n",
       "\n",
       "   split1_test_score  split2_test_score  mean_test_score  std_test_score  \\\n",
       "0           0.859759           0.878246         0.872921        0.009335   \n",
       "1           0.859759           0.878246         0.872921        0.009335   \n",
       "2           0.859759           0.878246         0.872921        0.009335   \n",
       "3           0.859759           0.878246         0.872921        0.009335   \n",
       "\n",
       "   rank_test_score  \n",
       "0                1  \n",
       "1                1  \n",
       "2                1  \n",
       "3                1  "
      ]
     },
     "execution_count": 36,
     "metadata": {},
     "output_type": "execute_result"
    }
   ],
   "source": [
    "table=pd.DataFrame.from_dict(re)\n",
    "table"
   ]
  },
  {
   "cell_type": "code",
   "execution_count": null,
   "metadata": {},
   "outputs": [],
   "source": []
  }
 ],
 "metadata": {
  "kernelspec": {
   "display_name": "Python 3",
   "language": "python",
   "name": "python3"
  },
  "language_info": {
   "codemirror_mode": {
    "name": "ipython",
    "version": 3
   },
   "file_extension": ".py",
   "mimetype": "text/x-python",
   "name": "python",
   "nbconvert_exporter": "python",
   "pygments_lexer": "ipython3",
   "version": "3.7.4"
  }
 },
 "nbformat": 4,
 "nbformat_minor": 2
}
